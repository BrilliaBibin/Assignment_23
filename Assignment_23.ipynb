{
 "cells": [
  {
   "cell_type": "raw",
   "id": "9fc415c7-d2e6-40a4-bed4-0bc744b08793",
   "metadata": {},
   "source": [
    "1. What is the result of the code, and why?\n",
    ">>> def func(a, b=6, c=8):\n",
    "print(a, b, c)\n",
    ">>> func(1, 2)"
   ]
  },
  {
   "cell_type": "code",
   "execution_count": 1,
   "id": "0a5dbbc9-c725-4951-a5f9-6a8111f90b16",
   "metadata": {},
   "outputs": [
    {
     "name": "stdout",
     "output_type": "stream",
     "text": [
      "1 2 8\n"
     ]
    }
   ],
   "source": [
    "def func(a, b=6, c=8):\n",
    "    print(a, b, c)\n",
    "func(1, 2)"
   ]
  },
  {
   "cell_type": "raw",
   "id": "e73ace56-6a7c-4b9e-8d5f-83817932ca15",
   "metadata": {},
   "source": [
    "we have sent two values and the preference is given to the user input.so a=1,b=2,c as by default argument 8."
   ]
  },
  {
   "cell_type": "raw",
   "id": "20812fcc-bc66-4e56-b518-30f74879e7d3",
   "metadata": {},
   "source": [
    "2. What is the result of this code, and why?\n",
    ">>>def func(a, b, c=5):\n",
    "print(a, b, c)\n",
    ">>>func(1, c=3, b=2)"
   ]
  },
  {
   "cell_type": "code",
   "execution_count": 2,
   "id": "b0b71706-38f2-433d-bfb9-ca9e991649d0",
   "metadata": {},
   "outputs": [
    {
     "name": "stdout",
     "output_type": "stream",
     "text": [
      "1 2 3\n"
     ]
    }
   ],
   "source": [
    "def func(a, b, c=5):\n",
    "    print(a, b, c)\n",
    "func(1, c=3, b=2)"
   ]
  },
  {
   "cell_type": "raw",
   "id": "b2840454-f109-4dcf-a08b-1f1a13ad00c5",
   "metadata": {},
   "source": [
    "Here a=1,b=2 and c=3 are given as user input, we have mentioned the variable to which value is assigned."
   ]
  },
  {
   "cell_type": "raw",
   "id": "8a987f47-8ae2-4896-87ca-7b187b56780c",
   "metadata": {},
   "source": [
    "3. How about this code: what is its result, and why?\n",
    ">>> def func(a, *pargs):\n",
    "print(a, pargs)\n",
    ">>> func(1, 2, 3)"
   ]
  },
  {
   "cell_type": "code",
   "execution_count": 3,
   "id": "81caf6af-104f-45b8-93f4-ad300c88fec5",
   "metadata": {},
   "outputs": [
    {
     "name": "stdout",
     "output_type": "stream",
     "text": [
      "1 (2, 3)\n"
     ]
    }
   ],
   "source": [
    "def func(a, *pargs):\n",
    "    print(a, pargs)\n",
    "func(1, 2, 3)"
   ]
  },
  {
   "cell_type": "raw",
   "id": "881c1675-a299-4998-be01-7e5a02ce5454",
   "metadata": {},
   "source": [
    "Here a=1. *pargs returns as many argument user gives as input in the form of tuples."
   ]
  },
  {
   "cell_type": "raw",
   "id": "e070117f-e3b6-4da1-8ed4-703c71b7daf0",
   "metadata": {},
   "source": [
    "4. What does this code print, and why?\n",
    ">>>def func(a, **kargs):\n",
    "print(a, kargs)\n",
    ">>>func(a=1, c=3, b=2)"
   ]
  },
  {
   "cell_type": "code",
   "execution_count": 4,
   "id": "0c77b1e9-3b88-46b7-a8cc-61b76915367f",
   "metadata": {},
   "outputs": [
    {
     "name": "stdout",
     "output_type": "stream",
     "text": [
      "1 {'c': 3, 'b': 2}\n"
     ]
    }
   ],
   "source": [
    "def func(a, **kargs):\n",
    "    print(a, kargs)\n",
    "func(a=1, c=3, b=2)"
   ]
  },
  {
   "cell_type": "raw",
   "id": "e99bc346-57f6-48b9-b707-1f2cadd2d9fc",
   "metadata": {},
   "source": [
    "Here a=1. **kargs returns as many argument user gives as input in the form of dictionary."
   ]
  },
  {
   "cell_type": "raw",
   "id": "2dda86a6-596c-42f6-8519-22b7b31e99fd",
   "metadata": {},
   "source": [
    "5. What gets printed by this, and explain?\n",
    ">>>def func(a, b, c=8, d=5):\n",
    "print(a, b, c, d)\n",
    ">>> func(1, *(5, 6))"
   ]
  },
  {
   "cell_type": "code",
   "execution_count": 5,
   "id": "1d041ab8-2d23-4e8a-bf76-b537ae747b42",
   "metadata": {},
   "outputs": [
    {
     "name": "stdout",
     "output_type": "stream",
     "text": [
      "1 5 6 5\n"
     ]
    }
   ],
   "source": [
    "def func(a, b, c=8, d=5):\n",
    "    print(a, b, c, d)\n",
    "func(1, *(5, 6))"
   ]
  },
  {
   "cell_type": "raw",
   "id": "6b8ae8ca-4015-4931-a931-4adb0bfc3645",
   "metadata": {},
   "source": [
    "Here a=1. User input is given in the form of kargs. So as many variable is present many times the value passed as kargs input will get printed.So here a=1,b=5,c=6,d=5."
   ]
  },
  {
   "cell_type": "raw",
   "id": "03c3ac9e-8648-478b-a49e-bf78bb4eb5fb",
   "metadata": {},
   "source": [
    "6. what is the result of this, and explain?\n",
    ">>> def func(a, b, c): \n",
    "a = 2; b[0] = 'x'; c['a'] = 'y'\n",
    ">>> l=1; m=[1]; n={'a':0}\n",
    ">>> func(l, m, n)\n",
    ">>> l, m, n"
   ]
  },
  {
   "cell_type": "code",
   "execution_count": 13,
   "id": "49929299-2a83-47a2-a7bf-4555d4a81e48",
   "metadata": {},
   "outputs": [],
   "source": [
    "def func(a, b, c): \n",
    "    a = 2; b[0] = 'x'; c['a'] = 'y'"
   ]
  },
  {
   "cell_type": "code",
   "execution_count": 14,
   "id": "802e2bb9-4570-4c49-b4c9-56f47fc43031",
   "metadata": {},
   "outputs": [],
   "source": [
    "l=1; m=[1]; n={'a':0}"
   ]
  },
  {
   "cell_type": "code",
   "execution_count": 15,
   "id": "7b9fa4fd-1a07-4eeb-bb37-1d265d0df567",
   "metadata": {},
   "outputs": [],
   "source": [
    "func(l,m,n)"
   ]
  },
  {
   "cell_type": "code",
   "execution_count": 16,
   "id": "50b18966-e5db-4066-8891-bde973ffd229",
   "metadata": {},
   "outputs": [
    {
     "data": {
      "text/plain": [
       "(1, ['x'], {'a': 'y'})"
      ]
     },
     "execution_count": 16,
     "metadata": {},
     "output_type": "execute_result"
    }
   ],
   "source": [
    "l,m,n"
   ]
  },
  {
   "cell_type": "raw",
   "id": "8bc930ca-5802-4838-83ed-29eee87e75df",
   "metadata": {},
   "source": [
    "Here in func(l,m,n) we passed l=1(user input), m is passed as list contain 1 element i.e 'x', n is passed as dictionary i.e {'a':'y'}"
   ]
  }
 ],
 "metadata": {
  "kernelspec": {
   "display_name": "Python 3 (ipykernel)",
   "language": "python",
   "name": "python3"
  },
  "language_info": {
   "codemirror_mode": {
    "name": "ipython",
    "version": 3
   },
   "file_extension": ".py",
   "mimetype": "text/x-python",
   "name": "python",
   "nbconvert_exporter": "python",
   "pygments_lexer": "ipython3",
   "version": "3.10.6"
  }
 },
 "nbformat": 4,
 "nbformat_minor": 5
}
